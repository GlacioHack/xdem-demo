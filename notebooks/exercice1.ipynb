{
 "cells": [
  {
   "cell_type": "markdown",
   "id": "00dbd00f",
   "metadata": {},
   "source": [
    "# Manipulating raster/vector data with geoutils - Exercise"
   ]
  },
  {
   "cell_type": "markdown",
   "id": "c314f856",
   "metadata": {
    "lines_to_next_cell": 2
   },
   "source": [
    "In this notebook, we apply the tools learnt in the `intro_geoutils` notebook to a different data set.\n",
    "\n",
    "We use the data from the Mera geodetic mass balance tutorials to be presented in the following days. They are available in the data folder \"04_mb_Mera\".\\\n",
    "There are 2 Pleiades DEMs from November 2012 and October 2018.\\\n",
    "There are manual outlines of Mera glacier for the same dates and a sample of RGI outlines for the study area."
   ]
  },
  {
   "cell_type": "markdown",
   "id": "58aa0a26",
   "metadata": {},
   "source": [
    "## Import the necessary modules"
   ]
  },
  {
   "cell_type": "code",
   "execution_count": null,
   "id": "d011d050",
   "metadata": {},
   "outputs": [],
   "source": [
    "import matplotlib.pyplot as plt\n",
    "import numpy as np\n",
    "%matplotlib widget\n",
    "\n",
    "import geoutils as gu\n",
    "import xdem"
   ]
  },
  {
   "cell_type": "markdown",
   "id": "7b73fc12",
   "metadata": {},
   "source": [
    "## Loading the data ###"
   ]
  },
  {
   "cell_type": "markdown",
   "id": "9c2a5f12",
   "metadata": {},
   "source": [
    "### Load the two Pleiades DEMs from 2012 and 2018\n",
    "\n",
    "Files are named \"Mera_Pleiades_2012-11-25_DEM_4m.tif\" and \"Mera_Pleiades_2018-10-28_DEM_4m.tif\"."
   ]
  },
  {
   "cell_type": "code",
   "execution_count": null,
   "id": "c6e39cb8",
   "metadata": {},
   "outputs": [],
   "source": [
    "dem_2012 = # use the command to load a Raster to open the 2012 DEM\n",
    "dem_2018 = # use the command to load a Raster to open the 2018 DEM"
   ]
  },
  {
   "cell_type": "markdown",
   "id": "ad1a6285",
   "metadata": {},
   "source": [
    "### Load the glacier outlines: Mera outlines from 2012 and 2018, RGI outlines\n",
    "\n",
    "Files are named: \"Mera_outline_2012_realigned.shp\", \"Mera_outline_2018_realigned.shp\" and \"Glacier_inventory_around_Mera.shp\"."
   ]
  },
  {
   "cell_type": "code",
   "execution_count": null,
   "id": "866e0b88",
   "metadata": {},
   "outputs": [],
   "source": [
    "outlines_2012 = # use the command to load a Vector to open the 2012 outlines\n",
    "outlines_2018 = # use the command to load a Vector to open the 2018 outlines\n",
    "outlines_rgi = # use the command to load a Vector to open the RGI outlines"
   ]
  },
  {
   "cell_type": "markdown",
   "id": "f1ebefa9",
   "metadata": {},
   "source": [
    "#### **Questions:** \n",
    "- What is the spatial resolution of the DEMs? Is it the same for both?\n",
    "- What is the coordinate reference system of the DEMs and outlines? Is it the same for all?\n",
    "- Are the DEM extents the same?\n",
    "\n",
    "Use the code cell below to type your commands and find the answer to the questions."
   ]
  },
  {
   "cell_type": "code",
   "execution_count": null,
   "id": "221773a7",
   "metadata": {},
   "outputs": [],
   "source": [
    "print(dem_2012.info())"
   ]
  },
  {
   "cell_type": "code",
   "execution_count": null,
   "id": "1af6d03d",
   "metadata": {},
   "outputs": [],
   "source": [
    "# type in other commands here to find the answer to the questions"
   ]
  },
  {
   "cell_type": "markdown",
   "id": "e736cfe9",
   "metadata": {},
   "source": [
    "### Answers:\n"
   ]
  },
  {
   "cell_type": "markdown",
   "id": "36679620",
   "metadata": {},
   "source": [
    "# Terrain attributes"
   ]
  },
  {
   "cell_type": "markdown",
   "id": "78b25eb5",
   "metadata": {},
   "source": [
    "#### Calculate the hillshade of 2012 and 2018 DEMs"
   ]
  },
  {
   "cell_type": "code",
   "execution_count": null,
   "id": "9111b1ae",
   "metadata": {},
   "outputs": [],
   "source": [
    "hillshade_2012 = # to be filled in\n",
    "hillshade_2018 = # to be filled in"
   ]
  },
  {
   "cell_type": "markdown",
   "id": "ccb127e7",
   "metadata": {},
   "source": [
    "#### Plot both hillshades and overlay the outlines of Mera glacier for the corresponding year"
   ]
  },
  {
   "cell_type": "code",
   "execution_count": null,
   "id": "ae65ccc9",
   "metadata": {},
   "outputs": [],
   "source": [
    "fig = plt.figure(figsize=(10,6))\n",
    "\n",
    "ax1 = plt.subplot(121)\n",
    "# to be filled in\n",
    "\n",
    "ax2 = plt.subplot(122)\n",
    "# to be filled in\n",
    "\n",
    "plt.tight_layout()\n",
    "plt.show()"
   ]
  },
  {
   "cell_type": "markdown",
   "id": "270dcff3",
   "metadata": {},
   "source": [
    "### Comment what you see:\n",
    "- what are the white (transparent) areas on the figure?\n",
    "- which DEM has a larger extent?"
   ]
  },
  {
   "cell_type": "markdown",
   "id": "7b4514f9",
   "metadata": {},
   "source": [
    "#### Calculate and plot slope and aspect for the 2018 DEM"
   ]
  },
  {
   "cell_type": "code",
   "execution_count": null,
   "id": "4ae43354",
   "metadata": {},
   "outputs": [],
   "source": [
    "slope = # to be filled in\n",
    "plt.figure(figsize=(10,10))\n",
    "# to be filled in\n",
    "plt.show()"
   ]
  },
  {
   "cell_type": "markdown",
   "id": "6c51a28b",
   "metadata": {},
   "source": [
    "#### Calculate and plot aspect for the 2018 DEM"
   ]
  },
  {
   "cell_type": "code",
   "execution_count": null,
   "id": "0b59e534",
   "metadata": {},
   "outputs": [],
   "source": [
    "aspect = # to be filled in\n",
    "plt.figure(figsize=(10,10))\n",
    "# to be filled in\n",
    "plt.show()"
   ]
  },
  {
   "cell_type": "markdown",
   "id": "dbc19065",
   "metadata": {},
   "source": [
    "# Calculating the difference between the two DEMs"
   ]
  },
  {
   "cell_type": "code",
   "execution_count": null,
   "id": "910ab657",
   "metadata": {},
   "outputs": [],
   "source": [
    "ddem = # to be filled in"
   ]
  },
  {
   "cell_type": "markdown",
   "id": "a12748f6",
   "metadata": {},
   "source": [
    "#### An error occurs ! Why is that?"
   ]
  },
  {
   "cell_type": "markdown",
   "id": "d81547c5",
   "metadata": {},
   "source": [
    "# Handling rasters projection and georeferencing"
   ]
  },
  {
   "cell_type": "markdown",
   "id": "f9923ced",
   "metadata": {},
   "source": [
    "### Reproject the two DEMs on the same grid\n",
    "Check afterwards that both DEM have same shape and georeferences."
   ]
  },
  {
   "cell_type": "code",
   "execution_count": null,
   "id": "c3609188",
   "metadata": {},
   "outputs": [],
   "source": [
    "dem_2012_proj = # to be filled in\n",
    "print(dem_2012_proj.info())\n",
    "print(dem_2018.info())"
   ]
  },
  {
   "cell_type": "markdown",
   "id": "3a06d732",
   "metadata": {},
   "source": [
    "### Now calculate the elevation change again"
   ]
  },
  {
   "cell_type": "code",
   "execution_count": null,
   "id": "4923a67a",
   "metadata": {},
   "outputs": [],
   "source": [
    "ddem = # to be filled in"
   ]
  },
  {
   "cell_type": "markdown",
   "id": "131514ee",
   "metadata": {},
   "source": [
    "## Plot the elevation change map"
   ]
  },
  {
   "cell_type": "markdown",
   "id": "a3aa9a9c",
   "metadata": {},
   "source": [
    "#### Make a plot with the following features: \n",
    "1) Plot the elevation difference with a color scale of +50/-50 m\n",
    "2) Plot Mera glacier outlines in black\n",
    "3) Include a color scale label\n",
    "4) Include a figure title"
   ]
  },
  {
   "cell_type": "code",
   "execution_count": null,
   "id": "12e59212",
   "metadata": {},
   "outputs": [],
   "source": [
    "plt.figure(figsize=(10, 10))\n",
    "ax = plt.subplot(111)\n",
    "# to be filled in\n",
    "plt.tight_layout()\n",
    "plt.show()"
   ]
  },
  {
   "cell_type": "markdown",
   "id": "5d1121a9",
   "metadata": {},
   "source": [
    "## Save the results in a file named \"tmp_Pleiades_2012_2018_dh.tif\""
   ]
  },
  {
   "cell_type": "code",
   "execution_count": null,
   "id": "f81ee620",
   "metadata": {},
   "outputs": [],
   "source": [
    "# to be filled in"
   ]
  },
  {
   "cell_type": "markdown",
   "id": "23029e8f",
   "metadata": {},
   "source": [
    "# Calculate zonal statistics\n",
    "Here we want to calculate the mean elevation change on and off glaciers."
   ]
  },
  {
   "cell_type": "markdown",
   "id": "023edaf5",
   "metadata": {},
   "source": [
    "## Rasterize the RGI glacier outlines on the same grid as ddem"
   ]
  },
  {
   "cell_type": "code",
   "execution_count": null,
   "id": "5d83be29",
   "metadata": {},
   "outputs": [],
   "source": [
    "glaciers_mask = # to be filled in\n",
    "plt.figure(figsize=(8,8))\n",
    "# to be filled in\n",
    "plt.show()"
   ]
  },
  {
   "cell_type": "markdown",
   "id": "c138d838",
   "metadata": {},
   "source": [
    "### Calculate mean dh over glaciers or stable terrain"
   ]
  },
  {
   "cell_type": "markdown",
   "id": "d8b40bec",
   "metadata": {},
   "source": [
    "Over glaciers:"
   ]
  },
  {
   "cell_type": "code",
   "execution_count": null,
   "id": "78a42565",
   "metadata": {},
   "outputs": [],
   "source": [
    "# to be filled in"
   ]
  },
  {
   "cell_type": "markdown",
   "id": "f3f899fa",
   "metadata": {},
   "source": [
    "Over stable terrain"
   ]
  },
  {
   "cell_type": "code",
   "execution_count": null,
   "id": "a76e80f7",
   "metadata": {},
   "outputs": [],
   "source": [
    "# to be filled in"
   ]
  },
  {
   "cell_type": "markdown",
   "id": "6c6b8c37",
   "metadata": {},
   "source": [
    "### Can you explain what is the issue?"
   ]
  },
  {
   "cell_type": "code",
   "execution_count": null,
   "id": "93663a76",
   "metadata": {},
   "outputs": [],
   "source": []
  }
 ],
 "metadata": {
  "jupytext": {
   "formats": "ipynb,py:light"
  },
  "kernelspec": {
   "display_name": "Python 3 (ipykernel)",
   "language": "python",
   "name": "python3"
  },
  "language_info": {
   "codemirror_mode": {
    "name": "ipython",
    "version": 3
   },
   "file_extension": ".py",
   "mimetype": "text/x-python",
   "name": "python",
   "nbconvert_exporter": "python",
   "pygments_lexer": "ipython3",
   "version": "3.9.15"
  }
 },
 "nbformat": 4,
 "nbformat_minor": 5
}
